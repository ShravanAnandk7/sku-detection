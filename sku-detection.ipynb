{
 "cells": [
  {
   "cell_type": "markdown",
   "metadata": {},
   "source": [
    "Users are free to copy and distribute only with citation.\n",
    "https://github.com/ShravanAnandk7/Keras-Image-Embeddings-using-Contrastive-Loss\n",
    "\n",
    "Last updated 09 Jan 2022"
   ]
  },
  {
   "cell_type": "markdown",
   "metadata": {},
   "source": [
    "Import libraries"
   ]
  },
  {
   "cell_type": "code",
   "execution_count": 17,
   "metadata": {},
   "outputs": [],
   "source": [
    "import os\n",
    "import numpy as np\n",
    "import pandas as pd\n",
    "from functools import partial\n",
    "from cv2 import cv2\n",
    "from matplotlib import pyplot as plt\n",
    "import json\n",
    "import tensorflow as tf\n",
    "import tensorflow.keras.utils as KU\n",
    "import tensorflow.keras.layers as KL\n",
    "import tensorflow.keras.models as KM\n",
    "import tensorflow.keras.losses as KLo\n",
    "import tensorflow.keras.optimizers as KO\n",
    "import tensorflow.keras.backend as K\n",
    "from tensorflow.python.keras.layers.pooling import GlobalAveragePooling2D"
   ]
  },
  {
   "cell_type": "markdown",
   "metadata": {},
   "source": [
    "Setup base directory and parameters of the trained model\n",
    "Train your model from https://github.com/ShravanAnandk7/Image-2-Embedding\n",
    "and copy the .hf weights file in models folder"
   ]
  },
  {
   "cell_type": "code",
   "execution_count": 18,
   "metadata": {},
   "outputs": [],
   "source": [
    "BASE_DIR    = os.getcwd()\n",
    "MODEL_DIR       =  os.path.join(BASE_DIR,\"models\") # Directory with model weights\n",
    "DATASET_DIR     =  os.path.join(BASE_DIR,\"datasets\") # Directory of images\n",
    "INPUT_SHAPE     =  299\n",
    "EMBEDDING_SIZE  =  32"
   ]
  },
  {
   "cell_type": "markdown",
   "metadata": {},
   "source": [
    "Base model architecture, load model weights"
   ]
  },
  {
   "cell_type": "code",
   "execution_count": 19,
   "metadata": {},
   "outputs": [],
   "source": [
    "def pre_process(image):\n",
    "    image = cv2.resize(image,(INPUT_SHAPE, INPUT_SHAPE))\n",
    "    image = image/127.5 -1\n",
    "    return image\n",
    "def euclidean_distance(x,y):\n",
    "    \"\"\"\n",
    "    Euclidean distance metric\n",
    "    \"\"\"\n",
    "    return np.sum(np.square(x-y), axis=-1)\n",
    "def base_network():\n",
    "    \"\"\"\n",
    "    Base CNN model trained for embedding extraction\n",
    "    \"\"\"\n",
    "    return( \n",
    "            KM.Sequential(\n",
    "                [   \n",
    "                    KL.Input(shape=(INPUT_SHAPE,INPUT_SHAPE,3)),\n",
    "                    KL.Conv2D(8,(3,3)),\n",
    "                    KL.ReLU(),\n",
    "                    KL.MaxPool2D(pool_size=(1,2)),\n",
    "                    # KL.BatchNormalization(),\n",
    "                    KL.Conv2D(16,(3,3)),\n",
    "                    KL.ReLU(),\n",
    "                    KL.MaxPool2D(pool_size=(2,1)),\n",
    "                    KL.BatchNormalization(),\n",
    "                    KL.Conv2D(32,(3,3)),\n",
    "                    KL.ReLU(),\n",
    "                    KL.MaxPool2D(pool_size=(1,1)),\n",
    "                    KL.GlobalAveragePooling2D(),\n",
    "                    # Don't Change the below layers\n",
    "                    KL.Dense(EMBEDDING_SIZE,activation = 'relu'),\n",
    "                    KL.Lambda(lambda x: K.l2_normalize(x,axis=-1))\n",
    "                ]))\n",
    "model = base_network()\n",
    "model.load_weights(os.path.join(MODEL_DIR, \"few-shot.h5\"))"
   ]
  },
  {
   "cell_type": "markdown",
   "metadata": {},
   "source": [
    "Generate embeddings of the few-shot images in the dataset/few-shot-dataset/ and save in few-shot-embedding.json file\n",
    "the folder name must be the name of the object.\n"
   ]
  },
  {
   "cell_type": "code",
   "execution_count": 31,
   "metadata": {},
   "outputs": [
    {
     "name": "stdout",
     "output_type": "stream",
     "text": [
      "Total objects/categories : dict_keys(['airplane', 'automobile', 'bird', 'cat', 'deer', 'frog', 'horse', 'ship', 'truck'])\n"
     ]
    }
   ],
   "source": [
    "embedding_dict={}\n",
    "path = os.path.join(DATASET_DIR,\"few-shot-dataset\")\n",
    "for object in os.listdir(os.path.join(DATASET_DIR,\"few-shot-dataset\")):\n",
    "    embedding_array = []\n",
    "    for image in os.listdir(os.path.join(DATASET_DIR,\"few-shot-dataset\",object)):\n",
    "        input = pre_process(cv2.imread(os.path.join(DATASET_DIR,\"few-shot-dataset\",object,image)))\n",
    "        output_embeddings = model.predict(np.expand_dims(input,axis=0))\n",
    "        embedding_array.append(output_embeddings[0])\n",
    "    \n",
    "    embedding_array = np.array(embedding_array)\n",
    "    embedding_array = np.mean(embedding_array,axis=0)\n",
    "    embedding_dict[object] = embedding_array.tolist()\n",
    "print(\"Total objects/categories :\",embedding_dict.keys())\n",
    "with open(\"few-shot-emedding.json\",'w') as json_file:\n",
    "    json.dump(embedding_dict,json_file)"
   ]
  },
  {
   "cell_type": "markdown",
   "metadata": {},
   "source": [
    "Predicting image.\n",
    "1. Load the image \n",
    "2. Extract embeddings from the image\n",
    "3. Load embeddings from the json file \n",
    "4. Calculate euclidean distance and sort in ascending order\n",
    "5. Get the top 5 predictions"
   ]
  },
  {
   "cell_type": "code",
   "execution_count": 29,
   "metadata": {},
   "outputs": [
    {
     "data": {
      "image/png": "[encoded data removed]",
      "text/plain": [
       "<Figure size 432x288 with 1 Axes>"
      ]
     },
     "metadata": {
      "needs_background": "light"
     },
     "output_type": "display_data"
    },
    {
     "name": "stdout",
     "output_type": "stream",
     "text": [
      "Top Predictions with (Object, Score)\n",
      " [('horse', 0.08726120126805148), ('ship', 0.09349780281149891), ('bird', 0.10591725852460712), ('automobile', 0.11266950132049558), ('truck', 0.13530947787158348)]\n"
     ]
    }
   ],
   "source": [
    "input_image = cv2.imread(os.path.join(BASE_DIR,\"predict_image.jpg\"))\n",
    "plt.imshow(input_image)\n",
    "plt.show()\n",
    "model_input = pre_process(input_image)\n",
    "output_embeddings = model.predict(np.expand_dims(model_input,axis=0))[0]\n",
    "with open(\"few-shot-emedding.json\",'r') as json_file:\n",
    "    embedding_dict = json.load(json_file)\n",
    "prediction_dict ={}\n",
    "for object, embedding in embedding_dict.items():\n",
    "    prediction_dict[object] = euclidean_distance( np.array(embedding) ,output_embeddings)\n",
    "top_predictions = sorted(prediction_dict.items(),key = lambda x: x[1])[:5]\n",
    "print(\"Top Predictions with (Object, Score)\\n\", top_predictions)"
   ]
  },
  {
   "cell_type": "markdown",
   "metadata": {},
   "source": [
    "Generate embeddings of the one-shot images in the dataset/one-shot-dataset/ and save in one-shot-embedding.json file\n",
    "the image file name must be the name of the object."
   ]
  },
  {
   "cell_type": "code",
   "execution_count": 22,
   "metadata": {},
   "outputs": [],
   "source": [
    "embedding_dict={}\n",
    "path = os.path.join(DATASET_DIR,\"one-shot-dataset\")\n",
    "for image in os.listdir(os.path.join(DATASET_DIR,\"one-shot-dataset\")):\n",
    "    input = pre_process(cv2.imread(os.path.join(DATASET_DIR,\"one-shot-dataset\",image)))\n",
    "    output_embeddings = model.predict(np.expand_dims(input,axis=0))\n",
    "    embedding_dict[image[:-4]] = output_embeddings[0].tolist()\n",
    "with open(\"one-shot-emedding.json\",'w') as json_file:\n",
    "    json.dump(embedding_dict,json_file)\n"
   ]
  },
  {
   "cell_type": "markdown",
   "metadata": {},
   "source": [
    "Predicting image"
   ]
  },
  {
   "cell_type": "code",
   "execution_count": 26,
   "metadata": {},
   "outputs": [
    {
     "data": {
      "image/png": "[encoded data removed]",
      "text/plain": [
       "<Figure size 432x288 with 1 Axes>"
      ]
     },
     "metadata": {
      "needs_background": "light"
     },
     "output_type": "display_data"
    },
    {
     "name": "stdout",
     "output_type": "stream",
     "text": [
      "Top Predictions \n",
      " [('horse', 0.0), ('bird', 0.08592463274802888), ('truck', 0.14489677916768023), ('cat', 0.14721649222829197), ('automobile', 0.15602874232272046)]\n"
     ]
    }
   ],
   "source": [
    "input_image = cv2.imread(os.path.join(BASE_DIR,\"predict_image.jpg\"))\n",
    "plt.imshow(input_image)\n",
    "plt.show()\n",
    "model_input = pre_process(input_image)\n",
    "output_embeddings = model.predict(np.expand_dims(model_input,axis=0))[0]\n",
    "with open(\"one-shot-emedding.json\",'r') as json_file:\n",
    "    embedding_dict = json.load(json_file)\n",
    "prediction_dict ={}\n",
    "for object, embedding in embedding_dict.items():\n",
    "    prediction_dict[object] = euclidean_distance( np.array(embedding) ,output_embeddings)\n",
    "top_predictions = sorted(prediction_dict.items(),key = lambda x: x[1])[:5]\n",
    "print(\"Top Predictions \\n\", top_predictions)"
   ]
  }
 ],
 "metadata": {
  "interpreter": {
   "hash": "0600588c3b5f4418cbe7b5ebc6825b479f3bc010269d8b60d75058cdd010adfe"
  },
  "kernelspec": {
   "display_name": "Python 3.7.9 64-bit",
   "language": "python",
   "name": "python3"
  },
  "language_info": {
   "codemirror_mode": {
    "name": "ipython",
    "version": 3
   },
   "file_extension": ".py",
   "mimetype": "text/x-python",
   "name": "python",
   "nbconvert_exporter": "python",
   "pygments_lexer": "ipython3",
   "version": "3.7.9"
  },
  "orig_nbformat": 4
 },
 "nbformat": 4,
 "nbformat_minor": 2
}
